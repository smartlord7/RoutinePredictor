{
 "cells": [
  {
   "cell_type": "code",
   "execution_count": 21,
   "metadata": {
    "collapsed": true
   },
   "outputs": [
    {
     "data": {
      "text/plain": "      weekday        lat       lon\n0    Thursday  38.726256 -9.134062\n1    Thursday  38.735493 -9.140671\n2    Thursday  38.737913 -9.137789\n3    Thursday  38.735730 -9.139514\n4    Thursday  38.731161 -9.134561\n..        ...        ...       ...\n224    Friday  38.735910 -9.141760\n225    Friday  38.735340 -9.142179\n226    Friday  38.735367 -9.140887\n227    Friday  38.735476 -9.145012\n228    Friday  38.726414 -9.133855\n\n[229 rows x 3 columns]",
      "text/html": "<div>\n<style scoped>\n    .dataframe tbody tr th:only-of-type {\n        vertical-align: middle;\n    }\n\n    .dataframe tbody tr th {\n        vertical-align: top;\n    }\n\n    .dataframe thead th {\n        text-align: right;\n    }\n</style>\n<table border=\"1\" class=\"dataframe\">\n  <thead>\n    <tr style=\"text-align: right;\">\n      <th></th>\n      <th>weekday</th>\n      <th>lat</th>\n      <th>lon</th>\n    </tr>\n  </thead>\n  <tbody>\n    <tr>\n      <th>0</th>\n      <td>Thursday</td>\n      <td>38.726256</td>\n      <td>-9.134062</td>\n    </tr>\n    <tr>\n      <th>1</th>\n      <td>Thursday</td>\n      <td>38.735493</td>\n      <td>-9.140671</td>\n    </tr>\n    <tr>\n      <th>2</th>\n      <td>Thursday</td>\n      <td>38.737913</td>\n      <td>-9.137789</td>\n    </tr>\n    <tr>\n      <th>3</th>\n      <td>Thursday</td>\n      <td>38.735730</td>\n      <td>-9.139514</td>\n    </tr>\n    <tr>\n      <th>4</th>\n      <td>Thursday</td>\n      <td>38.731161</td>\n      <td>-9.134561</td>\n    </tr>\n    <tr>\n      <th>...</th>\n      <td>...</td>\n      <td>...</td>\n      <td>...</td>\n    </tr>\n    <tr>\n      <th>224</th>\n      <td>Friday</td>\n      <td>38.735910</td>\n      <td>-9.141760</td>\n    </tr>\n    <tr>\n      <th>225</th>\n      <td>Friday</td>\n      <td>38.735340</td>\n      <td>-9.142179</td>\n    </tr>\n    <tr>\n      <th>226</th>\n      <td>Friday</td>\n      <td>38.735367</td>\n      <td>-9.140887</td>\n    </tr>\n    <tr>\n      <th>227</th>\n      <td>Friday</td>\n      <td>38.735476</td>\n      <td>-9.145012</td>\n    </tr>\n    <tr>\n      <th>228</th>\n      <td>Friday</td>\n      <td>38.726414</td>\n      <td>-9.133855</td>\n    </tr>\n  </tbody>\n</table>\n<p>229 rows × 3 columns</p>\n</div>"
     },
     "execution_count": 21,
     "metadata": {},
     "output_type": "execute_result"
    }
   ],
   "source": [
    "import keras\n",
    "import numpy as np\n",
    "import pandas as pd\n",
    "\n",
    "USER_ID = 468\n",
    "PATH_DATA = '../data/user_sequences/'\n",
    "EXTENSION_TEXT = '.txt'\n",
    "PATH_USER_DATA = PATH_DATA + f'user_{USER_ID}_sequence' + EXTENSION_TEXT\n",
    "\n",
    "data = pd.read_csv(PATH_USER_DATA, header=None)\n",
    "data = data.rename(columns={0: 'weekday', 1: 'lat', 2: 'lon'})\n",
    "data"
   ]
  }
 ],
 "metadata": {
  "kernelspec": {
   "display_name": "Python 3",
   "language": "python",
   "name": "python3"
  },
  "language_info": {
   "codemirror_mode": {
    "name": "ipython",
    "version": 2
   },
   "file_extension": ".py",
   "mimetype": "text/x-python",
   "name": "python",
   "nbconvert_exporter": "python",
   "pygments_lexer": "ipython2",
   "version": "2.7.6"
  }
 },
 "nbformat": 4,
 "nbformat_minor": 0
}
