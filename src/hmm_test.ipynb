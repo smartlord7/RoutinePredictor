{
 "cells": [
  {
   "cell_type": "code",
   "execution_count": 19,
   "outputs": [
    {
     "name": "stdout",
     "output_type": "stream",
     "text": [
      "[[38.7364443 -9.1407651]\n",
      " [38.7356124 -9.1396516]\n",
      " [38.7368552 -9.1396499]]\n"
     ]
    }
   ],
   "source": [
    "import keras\n",
    "import numpy as np\n",
    "import pandas as pd\n",
    "from sklearn.preprocessing import StandardScaler\n",
    "import joblib\n",
    "from hmmlearn import hmm\n",
    "\n",
    "USER_ID = 353\n",
    "PATH_DATA = '../data/user_sequences/'\n",
    "EXTENSION_TEXT = '.txt'\n",
    "PATH_USER_DATA = PATH_DATA + f'user_{USER_ID}_sequence' + EXTENSION_TEXT\n",
    "\n",
    "data = pd.read_csv(PATH_USER_DATA, header=None)\n",
    "data = data.to_numpy()[:,1:]  # Discard weekday, just for now\n",
    "print(data[0:3,:])"
   ],
   "metadata": {
    "collapsed": false
   }
  },
  {
   "cell_type": "code",
   "execution_count": 20,
   "metadata": {
    "collapsed": true
   },
   "outputs": [
    {
     "name": "stdout",
     "output_type": "stream",
     "text": [
      "(240, 2)\n"
     ]
    }
   ],
   "source": [
    "print(data.shape)\n",
    "\n",
    "X = data\n",
    "y = data\n",
    "\n",
    "scaler = StandardScaler()\n",
    "scaler.fit(X)\n",
    "X = scaler.transform(X)\n",
    "y = scaler.transform(y)\n",
    "\n",
    "\n",
    "X_train = X[0:190,:]\n",
    "y_train = y[0:190,:]\n",
    "\n",
    "X_test = X[190:,:]\n",
    "y_test = y[190:,:]\n"
   ]
  },
  {
   "cell_type": "code",
   "execution_count": 21,
   "outputs": [
    {
     "name": "stdout",
     "output_type": "stream",
     "text": [
      "[1 1 1 1 1 0 0 0 0 0 1 1 1 1 1 0 0 0 1 1 1 1 1 1 0 0 0 1 1 1 0 0 0 0 0 1 1\n",
      " 1 0 0 1 1 1 1 1 1 0 0 0 1 1 1 0 0 1 1 1 0 0 0 0 1 1 1 1 0 0 0 1 1 1 0 0 1\n",
      " 0 0 0 0 0 1 1 1 1 0 0 0 0 1 1 0 0 0 0 1 1 0 0 0 1 1 0 0 0 1 0 0 0 0 1 1 1\n",
      " 0 0 0 0 0 1 1 1 0 0 0 0 0 0 0 0 0 1 1 1 1 0 0 0 0 0 0 0 0 0 1 1 0 1 1 0 1\n",
      " 1 1 0 0 0 0 1 1 0 0 0 0 1 1 1 1 0 0 1 1 0 1 1 1 0 0 0 1 1 1 1 1 1 0 0 0 1\n",
      " 1 1 1 1 1 1 0 0 1 1 1 1 1 1 1 0 0 0 1 1 0 0 1 1 0 0 0 1 1 1 1 1 0 0 0 0 0\n",
      " 1 1 1 1 0 0 0 0 0 1 1 1 0 1 1 1 1 0]\n"
     ]
    }
   ],
   "source": [
    "model = hmm.GaussianHMM(n_components=2, covariance_type='spherical', n_iter=50, random_state=42)\n",
    "model.fit(X)\n",
    "\n",
    "Z = model.predict(X)\n",
    "\n",
    "print(Z)"
   ],
   "metadata": {
    "collapsed": false
   }
  }
 ],
 "metadata": {
  "kernelspec": {
   "display_name": "Python 3",
   "language": "python",
   "name": "python3"
  },
  "language_info": {
   "codemirror_mode": {
    "name": "ipython",
    "version": 2
   },
   "file_extension": ".py",
   "mimetype": "text/x-python",
   "name": "python",
   "nbconvert_exporter": "python",
   "pygments_lexer": "ipython2",
   "version": "2.7.6"
  }
 },
 "nbformat": 4,
 "nbformat_minor": 0
}
